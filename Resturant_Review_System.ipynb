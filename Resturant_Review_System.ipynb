import streamlit as st
import numpy as np
import matplotlib.pyplot as plt
import pandas as pd
import re
import nltk
from nltk.corpus import stopwords
from nltk.stem.porter import PorterStemmer
from sklearn.feature_extraction.text import CountVectorizer
from sklearn.model_selection import train_test_split
from sklearn.naive_bayes import GaussianNB

# Download NLTK stopwords
nltk.download('stopwords')

# Load dataset
dataset = pd.read_csv('Zomato Review Kaggle.tsv', delimiter='\t', quoting=3)

# Text Preprocessing
corpus = []
ps = PorterStemmer()
all_stopwords = stopwords.words('english')
all_stopwords.remove('not')

for i in range(0, 1000):
    zomato_ratings = re.sub('[^a-zA-Z]', ' ', dataset['Review'][i])
    zomato_ratings = zomato_ratings.lower().split()
    zomato_ratings = [ps.stem(word) for word in zomato_ratings if word not in set(all_stopwords)]
    zomato_ratings = ' '.join(zomato_ratings)
    corpus.append(zomato_ratings)

# Creating the Bag of Words model
cv = CountVectorizer(max_features=1500)
X = cv.fit_transform(corpus).toarray()
y = dataset.iloc[:, -1].values

# Splitting the dataset into the Training set and Test set
X_train, X_test, y_train, y_test = train_test_split(X, y, test_size=0.20, random_state=21)

# Training the Naive Bayes model
classifier = GaussianNB()
classifier.fit(X_train, y_train)

# Streamlit App
st.title("FoodMood")
st.image("FoodImage.jpg")
st.title("Enter your review")

text = st.text_area("Enter a text here")
if st.button("Predict Sentiment") and text:
    # Use the trained CountVectorizer to transform the input text
    text_transformed = cv.transform([text]).toarray()
    
    # Predict sentiment
    y_pred = classifier.predict(text_transformed)
    
    # Map prediction to sentiment
    sentiment = "Positive" if y_pred[0] == 1 else "Negative"
    
    # Display the sentiment result
    if sentiment == "Positive":
        st.write("Great! Your review has a positive sentiment.")
    else:
        st.write("We appreciate your feedback. If there are any issues, please let us know.")
    
    # Optionally display the raw prediction
    st.write(f"Raw prediction: {y_pred[0]}")
